{
 "cells": [
  {
   "cell_type": "code",
   "execution_count": 1,
   "id": "6b68b733",
   "metadata": {},
   "outputs": [],
   "source": [
    "from Node import Node\n",
    "from Edge import Edge\n",
    "from All_Graph import All_Graph\n",
    "from collections import deque\n",
    "from Utility import *"
   ]
  },
  {
   "cell_type": "code",
   "execution_count": 2,
   "id": "e491d6f7",
   "metadata": {},
   "outputs": [],
   "source": [
    "def dfs_recursive(graph:All_Graph, current_node:Node,path:list = list(), visited = set()):\n",
    "    '''\n",
    "    Takes a digraph, current node as arguments.\n",
    "    Constructs and prints the traversing path.\n",
    "    '''\n",
    "    # Marks the node as visited.\n",
    "    # The function and the caller use the same list: visited.\n",
    "    visited.add(current_node)\n",
    "    # Created a new variable to store the path.\n",
    "    new_path = path + [current_node]\n",
    "    print_path(new_path)\n",
    "    # Finds all unvisited destination nodes.\n",
    "    unvisited_dest_nodes = find_all_unvisited_destination_nodes(graph, current_node, visited)\n",
    "    if len(unvisited_dest_nodes) > 0:\n",
    "        for node in reversed(unvisited_dest_nodes):                \n",
    "            dfs_recursive(graph, node,new_path,visited)\n"
   ]
  },
  {
   "cell_type": "code",
   "execution_count": 7,
   "id": "678ea896",
   "metadata": {},
   "outputs": [],
   "source": [
    "def dfs_iterative(graph:All_Graph, start:Node):\n",
    "    '''\n",
    "    Takes a digraph, starting node as arguments.\n",
    "    Explores all nodes and prints the path.\n",
    "    '''\n",
    "    stack, visited, path = deque(), set(), list()\n",
    "    # Picks a starting node and pushes it the stack.\n",
    "    stack.appendleft(start)\n",
    "    # Repeats the process until the stack is empty.\n",
    "    while len(stack) > 0:\n",
    "        # Pops a node from the stack and makes it current node.\n",
    "        current_node = stack.popleft()\n",
    "        # We do not want to visit the same node more than once.\n",
    "        if current_node not in visited:\n",
    "            # Marks the node as visited.\n",
    "            visited.add(current_node)\n",
    "            path.append(current_node)\n",
    "            print_path(path)\n",
    "            # Finds all unvisited destination nodes.\n",
    "            unvisited_dest_nodes = find_all_unvisited_destination_nodes(graph, current_node, visited)\n",
    "            #if len(unvisited_dest_nodes)>1:\n",
    "            #    check the cost and find the minimum value\n",
    "            #   Paste the costed code here to see the RIB \n",
    "             #   visited.append(current_node)\n",
    "            if len(unvisited_dest_nodes) == 0:\n",
    "                # Reaches dead end and backstepping occurs.\n",
    "                while len(path) > 0 and len(\n",
    "                    find_all_unvisited_destination_nodes(graph, path[-1], visited)) == 0:\n",
    "                    path = path[:-1]\n",
    "            else:                       \n",
    "                # Pushes the unvisited destination nodes to stack.\n",
    "                stack.extendleft(unvisited_dest_nodes)\n"
   ]
  },
  {
   "cell_type": "code",
   "execution_count": 1,
   "id": "3e6fe8ce",
   "metadata": {},
   "outputs": [],
   "source": [
    "page_url = 'http://www.hometownlife.com/a/s/d/e/ed//d/s/ad/w/d/sa/d/ds'\n",
    "base_url = 'http://www.hometownlife.com'"
   ]
  },
  {
   "cell_type": "raw",
   "id": "950eebbd",
   "metadata": {},
   "source": [
    "#Find the minimum cost, \n",
    "if len(unvisted_node)>1:\n",
    "    for i in range(len(unvisted_nodes)):\n",
    "        min_index=index(min(cos_unvisted))\n",
    "        next_node=unvisted_node[min_index]\n",
    "        stack.append(next_node)\n",
    "else:\n",
    "    stack.extend(unvisited_dest_nodes)"
   ]
  },
  {
   "cell_type": "code",
   "execution_count": 6,
   "id": "2f7b39de",
   "metadata": {},
   "outputs": [
    {
     "name": "stdout",
     "output_type": "stream",
     "text": [
      "D\n"
     ]
    }
   ],
   "source": [
    "if __name__=='__main__':\n",
    "   \n",
    "   \n",
    "\n",
    "    a, b, c, d, e = Node('A'), Node('B'), Node('C'), Node('D'), Node('E')\n",
    "    # Creates six uni-directional edges\n",
    "    ab, ac, bc = Edge(a, b), Edge(a, c), Edge(b, c)\n",
    "    be, cd, ce = Edge(b, e), Edge(c, d), Edge(c, e)\n",
    "    # Creates a Digraph\n",
    "    graph = All_Graph()\n",
    "    # Adds nodes to the Digraph\n",
    "    for node in [a, b, c, d, e]:\n",
    "        graph.addNode(node)\n",
    "    # Adds edges to the Digraph\n",
    "    for edge in [ab, ac, bc, be, cd, ce]:\n",
    "        graph.addEdge(edge)\n",
    "    # Starts at the Node A and explores the graph\n",
    "    #dfs_recursive(graph,a)\n",
    "    dfs_iterative(graph,d)"
   ]
  },
  {
   "cell_type": "code",
   "execution_count": 13,
   "id": "e818c515",
   "metadata": {},
   "outputs": [],
   "source": [
    "mlist=[2,3,4,5,6,7,8]"
   ]
  },
  {
   "cell_type": "code",
   "execution_count": 14,
   "id": "e4eee10b",
   "metadata": {},
   "outputs": [
    {
     "data": {
      "text/plain": [
       "[2, 3, 4, 5, 6]"
      ]
     },
     "execution_count": 14,
     "metadata": {},
     "output_type": "execute_result"
    }
   ],
   "source": [
    "mlist[:-2]"
   ]
  }
 ],
 "metadata": {
  "kernelspec": {
   "display_name": "Python 3 (ipykernel)",
   "language": "python",
   "name": "python3"
  },
  "language_info": {
   "codemirror_mode": {
    "name": "ipython",
    "version": 3
   },
   "file_extension": ".py",
   "mimetype": "text/x-python",
   "name": "python",
   "nbconvert_exporter": "python",
   "pygments_lexer": "ipython3",
   "version": "3.9.13"
  }
 },
 "nbformat": 4,
 "nbformat_minor": 5
}
