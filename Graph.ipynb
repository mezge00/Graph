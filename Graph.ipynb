{
 "cells": [
  {
   "cell_type": "code",
   "execution_count": 2,
   "id": "2169cb1c",
   "metadata": {},
   "outputs": [],
   "source": [
    "import numpy as np\n",
    "import os\n",
    "import sys\n",
    "from Node import Node"
   ]
  },
  {
   "cell_type": "code",
   "execution_count": 21,
   "id": "aca95767",
   "metadata": {},
   "outputs": [],
   "source": [
    "class Graph:\n",
    "    def __init__(self,size,matrix):\n",
    "        self.size=size\n",
    "        self.matrix=matrix\n",
    "    \n",
    "    def addNode(self,node):\n",
    "        self.node=node\n",
    "    \n",
    "    def addEdge(self,src,dest,weight):\n",
    "        self.matrix[src][dest]=1\n",
    "    def checkEdge(self,src,dest):\n",
    "        if(self.matrix[src][dest]==1):\n",
    "            return True\n",
    "        else:\n",
    "            return False\n",
    "    def display(self):\n",
    "        for i in range(len(matrix)):\n",
    "            for j in range(len(matrix)):\n",
    "                print(matrix[i][j],end=' ')\n",
    "            print(' ')\n",
    "    def visit(self,vertex):\n",
    "        self.vertex=1\n",
    "    def dfs(self,Graph,vertex):\n",
    "        self.Graph=Graph\n",
    "        self.vertex=vertex\n",
    "        visited=set()\n",
    "        visited.add(vertex)\n",
    "            \n",
    "    "
   ]
  },
  {
   "cell_type": "code",
   "execution_count": 20,
   "id": "151614aa",
   "metadata": {},
   "outputs": [
    {
     "name": "stdout",
     "output_type": "stream",
     "text": [
      "False\n"
     ]
    }
   ],
   "source": [
    "if __name__=='__main__':\n",
    "    matrix=np.zeros((6,6))\n",
    "    g=Graph(6,matrix)\n",
    "    g.addNode(Node('A'))\n",
    "    g.addNode(Node('B'))\n",
    "    g.addNode(Node('C'))\n",
    "    g.addNode(Node('D'))\n",
    "    g.addNode(Node('E'))\n",
    "    g.addNode(Node('F'))\n",
    "      \n",
    "    g.addEdge(0,1,2)\n",
    "    g.addEdge(0,2,1)\n",
    "    g.addEdge(1,2,4)\n",
    "    g.addEdge(1,3,7)\n",
    "    g.addEdge(2,3,1)\n",
    "    g.addEdge(2,4,4)\n",
    "    g.addEdge(3,4,2)\n",
    "    g.addEdge(3,5,1)\n",
    "    g.addEdge(4,5,4)\n",
    "    \n",
    "    print(g.checkEdge(2,0))                                                      "
   ]
  }
 ],
 "metadata": {
  "kernelspec": {
   "display_name": "Python 3 (ipykernel)",
   "language": "python",
   "name": "python3"
  },
  "language_info": {
   "codemirror_mode": {
    "name": "ipython",
    "version": 3
   },
   "file_extension": ".py",
   "mimetype": "text/x-python",
   "name": "python",
   "nbconvert_exporter": "python",
   "pygments_lexer": "ipython3",
   "version": "3.9.13"
  }
 },
 "nbformat": 4,
 "nbformat_minor": 5
}
