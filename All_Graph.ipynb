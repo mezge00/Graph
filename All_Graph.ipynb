{
 "cells": [
  {
   "cell_type": "code",
   "execution_count": 1,
   "id": "d1ea633d",
   "metadata": {},
   "outputs": [],
   "source": [
    "import numpy as np\n",
    "import os\n",
    "import random \n",
    "import sys\n",
    "from Node import Node\n",
    "from Utility import find_all_unvisited_destination_nodes,print_path,find_all_visited_destination_nodes\n",
    "from Edge import Edge\n",
    "from collections import deque"
   ]
  },
  {
   "cell_type": "code",
   "execution_count": 2,
   "id": "d2da5799",
   "metadata": {},
   "outputs": [],
   "source": [
    "class All_Graph:\n",
    "    def __init__(self):\n",
    "        self._nodes=list()\n",
    "        self._edges=dict()\n",
    "       # self.costs=list()\n",
    "        \n",
    "    def dests_of(self, node):\n",
    "        '''\n",
    "        Takes a node as argument. Return a a list of destination nodes\n",
    "        '''\n",
    "        if node not in self._nodes:\n",
    "            raise ValueError('The node is not in the Digraph.')\n",
    "        else:\n",
    "            return self._edges[node]\n",
    "    def addNode(self,node):\n",
    "        if node in self._nodes:\n",
    "            raise valueError('Node already exists')\n",
    "        else:\n",
    "            self._nodes.append(node)\n",
    "            self._edges[node]=list()\n",
    "    \n",
    "    def addEdge(self,edge):\n",
    "        if edge.src not in self._nodes:\n",
    "            raise valueError('Node has no source')\n",
    "        elif edge.dest not in self._nodes:\n",
    "            raise valueError('Node has no destination node')\n",
    "        else:\n",
    "            self._edges[edge.src].append(edge.dest)\n",
    "           # self.costs.append(edge.cost)\n",
    "       \n",
    "    def has_node(self,node):\n",
    "        if node not in self._nodes:\n",
    "            return True\n",
    "        else:\n",
    "            return False\n",
    "       \n",
    "    '''def display(self):\n",
    "        for i in range(len(matrix)):\n",
    "            for j in range(len(matrix)):\n",
    "                print(matrix[i][j],end=' ')\n",
    "            print(' ')'''\n",
    "   \n",
    "    def __repr__(self):\n",
    "        '''Computes the “official” string representation of an object. \n",
    "        This is the representation printed by the shell when evaluating the object.\n",
    "        '''\n",
    "        # Makes a flat list out of a list of lists to get all desitinations in the Digraph\n",
    "        dest_list = [dest for sublist in self._edges.values() for dest in sublist]\n",
    "        # Uses Pythin f-string to format output\n",
    "        # Uses __name__ attribute of the class to get the class name\n",
    "        return f\"{type(self).__name__}(Nodes:{len(self._nodes)}, Edges:{len(dest_list)})\"\n",
    "\n",
    "    # Overloading __str__, creates a pretty string representation of an object\n",
    "    def __str__(self):\n",
    "        '''\n",
    "        Computes the pretty string representation of an object. \n",
    "        This is the representation printed by the print() statement.\n",
    "        '''\n",
    "        rtn_value = ''\n",
    "        for src in self._nodes:\n",
    "            for dest in self._edges[src]:\n",
    "                rtn_value = rtn_value + src.name + '->' + dest.name + '\\n'\n",
    "        return rtn_value[:-1]\n"
   ]
  },
  {
   "cell_type": "code",
   "execution_count": 3,
   "id": "7acaff3b",
   "metadata": {},
   "outputs": [],
   "source": [
    "color_type=['Red','Green','Blue']"
   ]
  },
  {
   "cell_type": "code",
   "execution_count": 15,
   "id": "b286d63f",
   "metadata": {},
   "outputs": [],
   "source": [
    "def dfs_Stack(Graph,node):\n",
    "    mark_color=[]\n",
    "  \n",
    "    stack,visited,path=deque(),set(),list()\n",
    "    stack.appendleft(node)\n",
    "    while len(stack)>0:\n",
    "        current_node=stack.popleft()\n",
    "        if current_node not in visited:\n",
    "            # Marks the node as visited.\n",
    "            visited.add(current_node)\n",
    "            random_color=random.choice(color_type)\n",
    "            mark_color.append(random_color)\n",
    "            path.append(current_node)\n",
    "            print_path(path)\n",
    "           \n",
    "            # Finds all unvisited destination nodes.\n",
    "            unvisited_dest_nodes = find_all_unvisited_destination_nodes(graph, current_node, visited)\n",
    "            if len(unvisited_dest_nodes) == 0:\n",
    "                # Reaches dead end and backstepping occurs.\n",
    "                while len(path) > 0 and len(find_all_unvisited_destination_nodes(graph, path[-1], visited)) == 0:\n",
    "                    path = path[:-1]\n",
    "            else:                       \n",
    "                # Pushes the unvisited destination nodes to stack.\n",
    "                stack.extendleft(unvisited_dest_nodes)\n",
    "               \n",
    "    print(mark_color)\n",
    "        \n",
    "        "
   ]
  },
  {
   "cell_type": "code",
   "execution_count": 25,
   "id": "29039c61",
   "metadata": {},
   "outputs": [
    {
     "name": "stdout",
     "output_type": "stream",
     "text": [
      "A\n",
      "A->C\n",
      "A->C->E\n",
      "A->C->D\n",
      "A->B\n",
      "['Red', 'Green', 'Red', 'Red', 'Green']\n"
     ]
    }
   ],
   "source": [
    "if __name__=='__main__':\n",
    "   \n",
    "   \n",
    "\n",
    "    a, b, c, d, e = Node('A'), Node('B'), Node('C'), Node('D'), Node('E')\n",
    "    # Creates six uni-directional edges\n",
    "    ab, ac, bc = Edge(a, b), Edge(a, c), Edge(b, c)\n",
    "    be, cd, ce = Edge(b, e), Edge(c, d), Edge(c, e)\n",
    "    # Creates a Digraph\n",
    "    graph = All_Graph()\n",
    "    # Adds nodes to the Digraph\n",
    "    for node in [a, b, c, d, e]:\n",
    "        graph.addNode(node)\n",
    "    # Adds edges to the Digraph\n",
    "    for edge in [ab, ac, bc, be, cd, ce]:\n",
    "        graph.addEdge(edge)\n",
    "    # Starts at the Node A and explores the graph\n",
    "    dfs_Stack(graph,a)\n",
    "   \n",
    "  "
   ]
  },
  {
   "cell_type": "code",
   "execution_count": null,
   "id": "0049f203",
   "metadata": {},
   "outputs": [],
   "source": []
  },
  {
   "cell_type": "code",
   "execution_count": null,
   "id": "a03f9a6b",
   "metadata": {},
   "outputs": [],
   "source": [
    "i=range(0,4,1)"
   ]
  },
  {
   "cell_type": "code",
   "execution_count": null,
   "id": "ffc60d57",
   "metadata": {},
   "outputs": [],
   "source": [
    "i"
   ]
  }
 ],
 "metadata": {
  "kernelspec": {
   "display_name": "Python 3 (ipykernel)",
   "language": "python",
   "name": "python3"
  },
  "language_info": {
   "codemirror_mode": {
    "name": "ipython",
    "version": 3
   },
   "file_extension": ".py",
   "mimetype": "text/x-python",
   "name": "python",
   "nbconvert_exporter": "python",
   "pygments_lexer": "ipython3",
   "version": "3.9.13"
  }
 },
 "nbformat": 4,
 "nbformat_minor": 5
}
