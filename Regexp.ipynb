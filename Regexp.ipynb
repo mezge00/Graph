{
 "cells": [
  {
   "cell_type": "code",
   "execution_count": 5,
   "id": "096024f7",
   "metadata": {
    "scrolled": false
   },
   "outputs": [
    {
     "name": "stdout",
     "output_type": "stream",
     "text": [
      "http://www.hometownlife.com/story/entertainment/dining/2022/11/21/zana-restaurant-open-downtown-birmingham\n",
      "http://www.hometownlife.com/picture-gallery/sports/2023/01/07/photos-salem-girls-basketball-vs-plymouth/11007843002\n",
      "http://www.hometownlife.com/story/opinion/columnists/2022/11/28/property-owners-appoint-themselves-to-defunct-hoa-what-to-do\n",
      "http://www.hometownlife.com/story/opinion/contributors/rick-bloom/2022/11/28\n",
      "http://www.hometownlife.com/story/sports/high-school/basketball/2023/01/07\n",
      "http://www.hometownlife.com/story/news/politics/2023/01/05/debbie-stabenow-will-not-seek-another-term-senate-2024\n",
      "http://www.hometownlife.com/story/news/local/novi/2023/01/04\n",
      "http://www.hometownlife.com/story/news/local/northville/2023/01/06\n",
      "http://www.hometownlife.com/picture-gallery/entertainment/2022/11/27/milford-christmas-parade-2022-photos/10785179002\n",
      "http://www.hometownlife.com/picture-gallery/sports/2023/01/07/photos-livonia-franklin-boys-basketball-vs-livonia-stevenson/11007800002\n",
      "http://www.hometownlife.com/story/sports/high-school/hockey/2023/01/05\n",
      "http://www.hometownlife.com/story/entertainment/2022/11/28/best-metro-detroit-christmas-events-planned-for-early-december-2022/69666981007\n",
      "http://www.hometownlife.com/story/opinion/contributors/rick-bloom/2022/12/01\n",
      "http://www.hometownlife.com/story/sports/2023/01/07/livonia-stevenson-boys-basketball-outlasts-rival-franklin-54-52/69787374007\n",
      "http://www.hometownlife.com/story/sports/2023/01/04/detroit-country-day-girls-basketball-beats-birmingham-groves-67-44/69775311007\n",
      "http://www.hometownlife.com/story/money/business/2022/12/06/milford-house-is-back-take-a-look-at-whats-new-inside\n",
      "http://www.hometownlife.com/videos/sports/high-school/hockey/2023/01/05\n",
      "http://www.hometownlife.com/story/money/business/2022/12/19/diamond-castle-jewelers-new-store-plymouth-novi\n",
      "http://www.hometownlife.com/picture-gallery/sports/high-school/basketball/2023/01/07\n",
      "http://www.hometownlife.com/picture-gallery/sports/2023/01/06/photos-north-farmington-girls-basketball-vs-royal-oak/10995707002\n",
      "http://www.hometownlife.com/story/money/business/2022/12/26/bad-brads-bbq-finally-opens-in-livonia\n",
      "http://www.hometownlife.com/story/sports/2023/01/06/north-farmington-girls-basketball-undefeated-leading-oaa-white-race/69781730007\n",
      "http://www.hometownlife.com/videos/sports/high-school/basketball/2023/01/07\n",
      "http://www.hometownlife.com/story/news/politics/2023/01/05/jocelyn-benson-presidential-citizens-medal\n",
      "http://www.hometownlife.com/story/news/local/south-lyon/2023/01/06\n"
     ]
    }
   ],
   "source": [
    "import re\n",
    "url='''http://www.hometownlife.com/story/entertainment/dining/2022/11/21/zana-restaurant-open-downtown-birmingham/69654733007/\n",
    "       http://www.hometownlife.com/picture-gallery/sports/2023/01/07/photos-salem-girls-basketball-vs-plymouth/11007843002/\n",
    "       http://www.hometownlife.com/story/opinion/columnists/2022/11/28/property-owners-appoint-themselves-to-defunct-hoa-what-to-do/69683572007/\n",
    "       http://www.hometownlife.com/story/opinion/contributors/rick-bloom/2022/11/28/how-to-deal-with-taxes-mortgage-on-homes-you-inherit-add-to-own-will/69672294007/\n",
    "       http://www.hometownlife.com/search/\n",
    "       http://www.hometownlife.com/story/sports/high-school/basketball/2023/01/07/northville-hartland-michigan-high-school-girls-basketball-2023/69784498007/\n",
    "       http://www.hometownlife.com/story/news/politics/2023/01/05/debbie-stabenow-will-not-seek-another-term-senate-2024/69780593007/\n",
    "       http://www.hometownlife.com/life/\n",
    "       http://www.hometownlife.com/story/news/local/novi/2023/01/04/ten-mile-road-novi-meadowbrook-haggerty-closed-construction/69777111007/\n",
    "       http://www.hometownlife.com/opinion/\n",
    "       http://www.hometownlife.com/story/news/local/northville/2023/01/06/northville-pd-offers-lateral-transfer-pay-to-recruit-more-officers/69780951007/\n",
    "       http://www.hometownlife.com/entertainment/\n",
    "       http://www.hometownlife.com/picture-gallery/entertainment/2022/11/27/milford-christmas-parade-2022-photos/10785179002/\n",
    "       http://www.hometownlife.com/contests/\n",
    "       http://www.hometownlife.com/sitemap/\n",
    "       http://www.hometownlife.com/sports/\n",
    "       http://www.hometownlife.com/weather/\n",
    "       http://www.hometownlife.com/marketplace/real-estate/\n",
    "       http://www.hometownlife.com/picture-gallery/sports/2023/01/07/photos-livonia-franklin-boys-basketball-vs-livonia-stevenson/11007800002/\n",
    "       http://www.hometownlife.com/story/sports/high-school/hockey/2023/01/05/northville-hartland-michigan-high-school-hockey-mhsaa-2023-jake-pietila/69778598007/\n",
    "       http://www.hometownlife.com/story/entertainment/2022/11/28/best-metro-detroit-christmas-events-planned-for-early-december-2022/69666981007/\n",
    "       http://www.hometownlife.com/contests\n",
    "       http://www.hometownlife.com/story/opinion/contributors/rick-bloom/2022/12/01/how-taxes-impact-gifting-ira-distributions-donating-to-bogus-charity/69672221007/\n",
    "       http://www.hometownlife.com/story/sports/2023/01/07/livonia-stevenson-boys-basketball-outlasts-rival-franklin-54-52/69787374007/\n",
    "       http://www.hometownlife.com/story/sports/2023/01/04/detroit-country-day-girls-basketball-beats-birmingham-groves-67-44/69775311007/\n",
    "       http://www.hometownlife.com/story/money/business/2022/12/06/milford-house-is-back-take-a-look-at-whats-new-inside/69682021007/\n",
    "       http://www.hometownlife.com/cars/\n",
    "       http://www.hometownlife.com/videos/sports/high-school/hockey/2023/01/05/watch-hartland-freshman-score-hat-trick-hockey-win-over-northville/10993998002/\n",
    "       http://www.hometownlife.com/story/money/business/2022/12/19/diamond-castle-jewelers-new-store-plymouth-novi/69735494007/\n",
    "       http://www.hometownlife.com/picture-gallery/sports/high-school/basketball/2023/01/07/northville-hartland-michigan-high-school-girls-basketball-photos-2023/11006368002/\n",
    "       http://www.hometownlife.com/picture-gallery/sports/2023/01/06/photos-north-farmington-girls-basketball-vs-royal-oak/10995707002/\n",
    "       http://www.hometownlife.com/story/money/business/2022/12/26/bad-brads-bbq-finally-opens-in-livonia/69750515007/\n",
    "       http://www.hometownlife.com/story/sports/2023/01/06/north-farmington-girls-basketball-undefeated-leading-oaa-white-race/69781730007/\n",
    "       http://www.hometownlife.com/business/\n",
    "       http://www.hometownlife.com/news/\n",
    "       http://www.hometownlife.com/videos/sports/high-school/basketball/2023/01/07/watch-northville-hartland-girls-basketball-highlights/11007325002/\n",
    "       http://www.hometownlife.com/story/news/politics/2023/01/05/jocelyn-benson-presidential-citizens-medal/69781212007/\n",
    "       http://www.hometownlife.com/story/news/local/south-lyon/2023/01/06/cattails-golf-course-lyon-township-single-family-homes-development-mksk/69781166007/'''\n",
    "pattern=re.compile(r'https?://(www\\.)?(\\w+)\\.(\\w+)/([\\w-]+)/([\\w-]+)/([\\w-]+)/([\\w-]+)/([\\w-]+)/([\\w-]+)/([\\w-]+)')\n",
    "matches=pattern.finditer(url)\n",
    "#subbed_url=pattern.sub(r'\\4\\5\\6\\7\\8\\9',url)\n",
    "pat=re.compile(r'https?://(www\\.)?\\w+.+')\n",
    "for match in matches:\n",
    "    print(match.group(0))\n",
    "#http://www.hometownlife.com/picture-gallery/sports/2023/01/07/photos-salem-girls-basketball-vs-plymouth/11007843002/"
   ]
  },
  {
   "cell_type": "code",
   "execution_count": 6,
   "id": "e013cf3f",
   "metadata": {},
   "outputs": [
    {
     "ename": "TypeError",
     "evalue": "object of type 'callable_iterator' has no len()",
     "output_type": "error",
     "traceback": [
      "\u001b[1;31m---------------------------------------------------------------------------\u001b[0m",
      "\u001b[1;31mTypeError\u001b[0m                                 Traceback (most recent call last)",
      "\u001b[1;32m~\\AppData\\Local\\Temp\\ipykernel_13696\\225496252.py\u001b[0m in \u001b[0;36m<module>\u001b[1;34m\u001b[0m\n\u001b[1;32m----> 1\u001b[1;33m \u001b[0mlen\u001b[0m\u001b[1;33m(\u001b[0m\u001b[0mmatches\u001b[0m\u001b[1;33m)\u001b[0m\u001b[1;33m\u001b[0m\u001b[1;33m\u001b[0m\u001b[0m\n\u001b[0m",
      "\u001b[1;31mTypeError\u001b[0m: object of type 'callable_iterator' has no len()"
     ]
    }
   ],
   "source": [
    "len(matches)"
   ]
  },
  {
   "cell_type": "code",
   "execution_count": null,
   "id": "6766d0f8",
   "metadata": {},
   "outputs": [],
   "source": []
  },
  {
   "cell_type": "code",
   "execution_count": null,
   "id": "d55a668c",
   "metadata": {},
   "outputs": [],
   "source": []
  }
 ],
 "metadata": {
  "kernelspec": {
   "display_name": "Python 3 (ipykernel)",
   "language": "python",
   "name": "python3"
  },
  "language_info": {
   "codemirror_mode": {
    "name": "ipython",
    "version": 3
   },
   "file_extension": ".py",
   "mimetype": "text/x-python",
   "name": "python",
   "nbconvert_exporter": "python",
   "pygments_lexer": "ipython3",
   "version": "3.9.13"
  }
 },
 "nbformat": 4,
 "nbformat_minor": 5
}
