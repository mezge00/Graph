{
 "cells": [
  {
   "cell_type": "code",
   "execution_count": 2,
   "id": "dfcd09ff",
   "metadata": {},
   "outputs": [],
   "source": [
    "import re \n",
    "import sys\n",
    "import os\n",
    "import requests\n",
    "from bs4 import BeautifulSoup\n",
    "from urllib.parse import urljoin, urlparse\n",
    "\n",
    "#import urllib.request as url\n"
   ]
  },
  {
   "cell_type": "code",
   "execution_count": 7,
   "id": "a4dfddd5",
   "metadata": {
    "scrolled": true
   },
   "outputs": [],
   "source": [
    "#def getPageContent(url):\n",
    "all_links=[]\n",
    "base_url='http://www.hometownlife.com'\n",
    "response=requests.get('http://www.hometownlife.com')\n",
    "#page=BeautifulSoup(response)\n",
    "regex = re.compile(r'^(' + base_url + '\\/|\\/).+') \n",
    "pat=re.compile(r'https?://(www\\.)?\\w+.+')\n",
    "page = BeautifulSoup(response.content, 'html.parser')\n",
    "#print(page.prettify())\n",
    "#match=page.find_all('a')\n",
    "links = page.find_all('a', {'href':regex})\n",
    "\n",
    "for link in links:\n",
    "    try:\n",
    "        href = link['href']\n",
    "            # Removes the query string from the link\n",
    "        url_path = urlparse(href).path\n",
    "            # Gets fully qualified url\n",
    "        fully_qualified_url = urljoin(base_url,url_path)\n",
    "        all_links.append(fully_qualified_url)\n",
    "    except AttributeError as e:\n",
    "        pass\n"
   ]
  },
  {
   "cell_type": "code",
   "execution_count": 8,
   "id": "338ac1bc",
   "metadata": {},
   "outputs": [],
   "source": [
    "def extract_links(content):\n",
    "    pattern=re.compile(r'http.<a href=\"(.*)\">')\n",
    "    matches=content.find_all(pattern)\n",
    "    \n",
    "    return matches\n",
    "\n"
   ]
  },
  {
   "cell_type": "code",
   "execution_count": 9,
   "id": "f8178072",
   "metadata": {},
   "outputs": [],
   "source": [
    "soups=[]\n",
    "for i in range(len(all_links)):\n",
    "    response=requests.get(all_links[i])\n",
    "    souping=BeautifulSoup(response.content,'html.parser')\n",
    "    soups.append(souping)\n",
    "   "
   ]
  },
  {
   "cell_type": "code",
   "execution_count": 10,
   "id": "46fb5c6d",
   "metadata": {},
   "outputs": [
    {
     "name": "stdout",
     "output_type": "stream",
     "text": [
      "https://www.hometownlife.com/obituaries\n",
      "https://user.hometownlife.com/POEN-GUP-NPARCHIVES/user/newspaper-archives/?return-url=http%3A%2F%2Fhometownlife.newspapers.com\n",
      "http://puzzles.usatoday.com/\n",
      "https://profile.hometownlife.com/newsletters/manage/\n",
      "https://help.hometownlife.com/\n",
      "https://cm.hometownlife.com/terms/\n",
      "https://cm.hometownlife.com/privacy-policy/\n",
      "https://cm.hometownlife.com/privacy/\n",
      "https://www.hometownlife.com/sitemap/\n",
      "http://cm.hometownlife.com/accessibility/\n",
      "http://cm.hometownlife.com/ethical-conduct/\n",
      "http://cm.hometownlife.com/cookie-policy/\n",
      "https://www.facebook.com/OEHometown/\n",
      "https://twitter.com/Hometownlife/\n"
     ]
    }
   ],
   "source": [
    "store=[]# To capture each internal link's inner links\n",
    "for page in soups:\n",
    "    inner_links=page.find_all('a',{'href':pat})\n",
    "    store.append(inner_links)\n",
    "for inners in inner_links:\n",
    "    print(inners['href'])\n"
   ]
  },
  {
   "cell_type": "code",
   "execution_count": 47,
   "id": "7776419c",
   "metadata": {},
   "outputs": [
    {
     "name": "stdout",
     "output_type": "stream",
     "text": [
      "http://www.hometownlife.com/news/\n",
      "http://www.hometownlife.com/sports/\n",
      "http://www.hometownlife.com/business/\n",
      "http://www.hometownlife.com/life/\n",
      "http://www.hometownlife.com/entertainment/\n",
      "http://www.hometownlife.com/search/\n",
      "http://www.hometownlife.com/weather/\n",
      "http://www.hometownlife.com/story/news/2023/01/11/farmington-hills-hockey-doc-pleads-not-guilty-to-csc-changes/69798710007/\n",
      "http://www.hometownlife.com/story/sports/2023/01/11/farmington-hills-mercy-girls-basketball-beats-rival-marian-66-24/69799120007/\n",
      "http://www.hometownlife.com/story/life/2023/01/11/plymouth-greek-islands-closing-monday/69793965007/\n",
      "http://www.hometownlife.com/story/news/2023/01/10/livonia-tattoo-artist-alexander-boykin-accused-of-criminal-sexual-conduct-opens-shop/69791597007/\n",
      "http://www.hometownlife.com/story/life/2023/01/10/livonia-woman-honors-late-uncle-through-year-round-acts-of-service/69784912007/\n",
      "http://www.hometownlife.com/story/sports/2023/01/09/cast-your-vote-for-hometown-lifes-prep-athlete-of-the-week/69791248007/\n",
      "http://www.hometownlife.com/story/money/business/2023/01/09/dua-vino-italian-restaurant-bar-south-lyon-tom-palushaj/69781021007/\n",
      "http://www.hometownlife.com/picture-gallery/entertainment/2023/01/09/get-glimpse-dua-vino-south-lyons-italian-restaurant-and-bar/10997556002/\n",
      "http://www.hometownlife.com/story/entertainment/2023/01/09/northville-summer-concerts-saturdays-acoustic-performances-stage-bands/69783978007/\n",
      "http://www.hometownlife.com/story/news/local/south-lyon/2023/01/06/cattails-golf-course-lyon-township-single-family-homes-development-mksk/69781166007/\n",
      "http://www.hometownlife.com/story/news/local/northville/2023/01/06/northville-pd-offers-lateral-transfer-pay-to-recruit-more-officers/69780951007/\n",
      "http://www.hometownlife.com/story/news/local/novi/2023/01/04/ten-mile-road-novi-meadowbrook-haggerty-closed-construction/69777111007/\n",
      "http://www.hometownlife.com/news/\n",
      "http://www.hometownlife.com/story/sports/2023/01/11/farmington-hills-mercy-girls-basketball-beats-rival-marian-66-24/69799120007/\n",
      "http://www.hometownlife.com/picture-gallery/sports/2023/01/11/photos-farmington-hills-mercy-basketball-vs-bloomfield-hills-marian/11032326002/\n",
      "http://www.hometownlife.com/story/sports/2023/01/09/cast-your-vote-for-hometown-lifes-prep-athlete-of-the-week/69791248007/\n",
      "http://www.hometownlife.com/sports/\n",
      "http://www.hometownlife.com/picture-gallery/entertainment/2023/01/09/get-glimpse-dua-vino-south-lyons-italian-restaurant-and-bar/10997556002/\n",
      "http://www.hometownlife.com/story/entertainment/2023/01/09/northville-summer-concerts-saturdays-acoustic-performances-stage-bands/69783978007/\n",
      "http://www.hometownlife.com/story/entertainment/2022/11/28/best-metro-detroit-christmas-events-planned-for-early-december-2022/69666981007/\n",
      "http://www.hometownlife.com/entertainment/\n",
      "http://www.hometownlife.com/story/money/business/2023/01/09/dua-vino-italian-restaurant-bar-south-lyon-tom-palushaj/69781021007/\n",
      "http://www.hometownlife.com/story/money/business/2022/12/26/bad-brads-bbq-finally-opens-in-livonia/69750515007/\n",
      "http://www.hometownlife.com/story/money/business/2022/12/19/diamond-castle-jewelers-new-store-plymouth-novi/69735494007/\n",
      "http://www.hometownlife.com/business/\n",
      "http://www.hometownlife.com/story/opinion/contributors/rick-bloom/2022/12/01/how-taxes-impact-gifting-ira-distributions-donating-to-bogus-charity/69672221007/\n",
      "http://www.hometownlife.com/story/opinion/columnists/2022/11/28/property-owners-appoint-themselves-to-defunct-hoa-what-to-do/69683572007/\n",
      "http://www.hometownlife.com/story/opinion/contributors/rick-bloom/2022/11/28/how-to-deal-with-taxes-mortgage-on-homes-you-inherit-add-to-own-will/69672294007/\n",
      "http://www.hometownlife.com/opinion/\n",
      "http://www.hometownlife.com/contests/\n",
      "http://www.hometownlife.com/picture-gallery/sports/2023/01/11/photos-farmington-hills-mercy-basketball-vs-bloomfield-hills-marian/11032326002/\n",
      "http://www.hometownlife.com/story/news/2023/01/10/westland-northville-projects-receive-about-1-5-million-in-brownfield-funding/69784104007/\n",
      "http://www.hometownlife.com/story/news/2023/01/10/detroit-rescue-missions-livonia-hub-still-without-plans/69781588007/\n",
      "http://www.hometownlife.com/story/news/2023/01/10/chick-fil-a-set-to-open-livonia-restaurant-this-week/69791211007/\n",
      "http://www.hometownlife.com/story/news/2023/01/10/warehouses-plymouth-township-five-mile-napier-ridge-roads/69785959007/\n",
      "http://www.hometownlife.com/sitemap/\n",
      "http://www.hometownlife.com/cars/\n",
      "http://www.hometownlife.com/marketplace/real-estate/\n"
     ]
    }
   ],
   "source": [
    "for linkedIn in all_links:\n",
    "    print(linkedIn)"
   ]
  },
  {
   "cell_type": "code",
   "execution_count": 18,
   "id": "1391d0f9",
   "metadata": {
    "scrolled": false
   },
   "outputs": [],
   "source": [
    "my_last=[]\n",
    "for stored in store:\n",
    "    for final in stored:\n",
    "        my_last.append(final['href'])"
   ]
  },
  {
   "cell_type": "code",
   "execution_count": null,
   "id": "3b4374bd",
   "metadata": {},
   "outputs": [],
   "source": [
    "if __name__=='__main__':\n",
    "    url='http://www.hometownlife.com'\n",
    "    content=getPageContent(url)\n",
    "    all_links=extract_links(content)\n",
    "    print(all_links)\n"
   ]
  },
  {
   "cell_type": "code",
   "execution_count": 46,
   "id": "ce0b3f5f",
   "metadata": {
    "scrolled": true
   },
   "outputs": [
    {
     "name": "stdout",
     "output_type": "stream",
     "text": [
      "https://subscribe.hometownlife.com/subscribe?gps-source=CPMASTHEAD&itm_campaign=2023JANEVERG&itm_medium=ONSITE&onSuccessRedirectURL=https%3A%2F%2Fwww.hometownlife.com%2Fstory%2Fsports%2F2023%2F01%2F11%2Ffarmington-hills-mercy-girls-basketball-beats-rival-marian-66-24%2F69799120007%2F\n",
      "https://www.hometownlife.com/obituaries\n",
      "http://classifieds.hometownlife.com/\n",
      "https://subscribe.hometownlife.com/navsub?gps-source=CPTOPNAVBAR&itm_campaign=2023JANEVERG&itm_medium=ONSITE&onSuccessRedirectURL=https%3A%2F%2Fwww.hometownlife.com%2Fstory%2Fsports%2F2023%2F01%2F11%2Ffarmington-hills-mercy-girls-basketball-beats-rival-marian-66-24%2F69799120007%2F\n",
      "https://login.hometownlife.com/POEN-GUP/authenticate/?success-url=https%3A%2F%2Fwww.hometownlife.com%2Fstory%2Fsports%2F2023%2F01%2F11%2Ffarmington-hills-mercy-girls-basketball-beats-rival-marian-66-24%2F69799120007%2F&cancel-url=https%3A%2F%2Fwww.hometownlife.com%2Fstory%2Fsports%2F2023%2F01%2F11%2Ffarmington-hills-mercy-girls-basketball-beats-rival-marian-66-24%2F69799120007%2F\n",
      "https://cm.hometownlife.com/comment/?storyUrl=https%3A%2F%2Fwww.hometownlife.com%2Fstory%2Fsports%2F2023%2F01%2F11%2Ffarmington-hills-mercy-girls-basketball-beats-rival-marian-66-24%2F69799120007%2F&marketName=hometownlife&commentsopen=false\n",
      "https://www.facebook.com/dialog/share?display=popup&app_id=169969316374298&href=https%3A%2F%2Fwww.hometownlife.com%2Fstory%2Fsports%2F2023%2F01%2F11%2Ffarmington-hills-mercy-girls-basketball-beats-rival-marian-66-24%2F69799120007%2F\n",
      "http://twitter.com/share?url=https%3A%2F%2Fwww.hometownlife.com%2Fstory%2Fsports%2F2023%2F01%2F11%2Ffarmington-hills-mercy-girls-basketball-beats-rival-marian-66-24%2F69799120007%2F&text=Hard%20workers%20such%20as%20Fran%20DeNardo%20have%20Farmington%20Hills%20Mercy%20girls%20basketball%20undefeated&via=hometownlife\n",
      "https://twitter.com/folsombrandonj\n",
      "https://cm.hometownlife.com/comment/?storyUrl=https%3A%2F%2Fwww.hometownlife.com%2Fstory%2Fsports%2F2023%2F01%2F11%2Ffarmington-hills-mercy-girls-basketball-beats-rival-marian-66-24%2F69799120007%2F&marketName=hometownlife&commentsopen=false\n",
      "https://www.facebook.com/dialog/share?display=popup&app_id=169969316374298&href=https%3A%2F%2Fwww.hometownlife.com%2Fstory%2Fsports%2F2023%2F01%2F11%2Ffarmington-hills-mercy-girls-basketball-beats-rival-marian-66-24%2F69799120007%2F\n",
      "http://twitter.com/share?url=https%3A%2F%2Fwww.hometownlife.com%2Fstory%2Fsports%2F2023%2F01%2F11%2Ffarmington-hills-mercy-girls-basketball-beats-rival-marian-66-24%2F69799120007%2F&text=Hard%20workers%20such%20as%20Fran%20DeNardo%20have%20Farmington%20Hills%20Mercy%20girls%20basketball%20undefeated&via=hometownlife\n",
      "https://cm.hometownlife.com/site-feedback/?platform=Tangent-Desktop&url=https%3A%2F%2Fwww.hometownlife.com%2Fstory%2Fsports%2F2023%2F01%2F11%2Ffarmington-hills-mercy-girls-basketball-beats-rival-marian-66-24%2F69799120007%2F&marketName=hometownlife&cta=Right-Rail\n",
      "https://static.hometownlife.com/aboutus/\n",
      "https://www.hometownlife.com/contact/staff/\n",
      "http://www.gannett.com/careers/\n",
      "https://cm.hometownlife.com/accessibility\n",
      "http://classifieds.hometownlife.com/\n",
      "https://cm.hometownlife.com/ethical-conduct\n",
      "https://cm.hometownlife.com/terms\n",
      "https://cm.hometownlife.com/privacy\n",
      "https://cm.hometownlife.com/privacy-policy/\n",
      "https://help.hometownlife.com/contact-us\n",
      "https://supportlocal.usatoday.com/?utm_source=bnm&utm_medium=editorial&utm_campaign=supportlocal&utm_content=quicklinks&utm_term=livonia\n",
      "https://localiq.com/markets/Michigan/\n",
      "https://cm.hometownlife.com/advertising-terms-conditions\n",
      "https://hometownlife.gannettclassifieds.com/webbaseDETLIA/en/std/jsp/WebBaseMain.do;jsessionid=0B0405989F83CAC3D5C0760C848CD993.ecsadbeap06\n",
      "https://imagn.com/licensing-reprints/\n",
      "https://help.hometownlife.com/\n",
      "https://cm.hometownlife.com/subscriberguide\n",
      "https://account.hometownlife.com/\n",
      "https://cm.hometownlife.com/site-feedback/?platform=Tangent-Desktop&url=https%3A%2F%2Fwww.hometownlife.com%2Fstory%2Fsports%2F2023%2F01%2F11%2Ffarmington-hills-mercy-girls-basketball-beats-rival-marian-66-24%2F69799120007%2F&marketName=hometownlife&cta=Footer\n",
      "https://subscribe.hometownlife.com/\n",
      "https://profile.hometownlife.com/newsletters/manage\n",
      "https://www.hometownlife.com/subscriberguide/apps/\n",
      "https://www.facebook.com/OEHometown\n",
      "https://twitter.com/Hometownlife\n",
      "https://www.storytellersproject.com/\n",
      "https://archives.hometownlife.com/\n",
      "http://static.hometownlife.com/rss/\n",
      "https://www.hometownlife.com/jobs/\n",
      "http://www.hometownlife.com/marketplace/real-estate/\n",
      "http://classifieds.hometownlife.com\n",
      "https://www.reviewed.com/\n",
      "https://www.usatodaysportsplus.com/\n",
      "https://www.10best.com/\n",
      "http://www.reachlocal.com/us/en\n"
     ]
    }
   ],
   "source": [
    "#To understand the hyperlink directions on each internal page \n",
    "for prim in store[8]:\n",
    "    print(prim['href'])\n",
    "  "
   ]
  },
  {
   "cell_type": "code",
   "execution_count": 44,
   "id": "96ec95dd",
   "metadata": {},
   "outputs": [
    {
     "data": {
      "text/plain": [
       "(0, 44, 1)"
      ]
     },
     "execution_count": 44,
     "metadata": {},
     "output_type": "execute_result"
    }
   ],
   "source": [
    "i"
   ]
  }
 ],
 "metadata": {
  "kernelspec": {
   "display_name": "Python 3 (ipykernel)",
   "language": "python",
   "name": "python3"
  },
  "language_info": {
   "codemirror_mode": {
    "name": "ipython",
    "version": 3
   },
   "file_extension": ".py",
   "mimetype": "text/x-python",
   "name": "python",
   "nbconvert_exporter": "python",
   "pygments_lexer": "ipython3",
   "version": "3.9.13"
  }
 },
 "nbformat": 4,
 "nbformat_minor": 5
}
