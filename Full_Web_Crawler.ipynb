{
 "cells": [
  {
   "cell_type": "code",
   "execution_count": 1,
   "id": "eedb16cb",
   "metadata": {},
   "outputs": [],
   "source": [
    "import re\n",
    "import os,sys\n",
    "import requests\n",
    "from bs4 import BeautifulSoup\n",
    "from urllib.parse import urlparse,urljoin"
   ]
  },
  {
   "cell_type": "code",
   "execution_count": 2,
   "id": "145af7f9",
   "metadata": {},
   "outputs": [],
   "source": [
    "'''\n",
    "Getting all links of the website that are just on the front of the page or\n",
    "Internal pages that we interact so that we can extract outlinks from those websites\n",
    "'''\n",
    "def get_internal_links(page_url,base_url):\n",
    "    response=requests.get(page_url)\n",
    "    soup=BeautifulSoup(response.content,'html.parser')\n",
    "    pattern=re.compile(r'^(' + base_url + '\\/|\\/).+') \n",
    "    all_links=[]\n",
    "    links=soup.find_all('a',{'href':pattern})\n",
    "    for link in links:\n",
    "        try:\n",
    "            href=link['href']\n",
    "            url_path=urlparse(href).path\n",
    "            full_url=urljoin(base_url,url_path)\n",
    "            all_links.append(full_url)\n",
    "        except AttributeError as e:\n",
    "            pass\n",
    "    return all_links\n",
    "###############\n",
    "\n",
    "\n",
    "\n",
    "\n"
   ]
  },
  {
   "cell_type": "code",
   "execution_count": 3,
   "id": "78bcc662",
   "metadata": {},
   "outputs": [],
   "source": [
    "def extract_links(internal_links):\n",
    "    soups=[]\n",
    "    all_inner_links=[]\n",
    "    for i in range(len(internal_links)):\n",
    "        response=requests.get(internal_links[i])\n",
    "        souping=BeautifulSoup(response.content,'html.parser')\n",
    "        soups.append(souping)\n",
    "        pat=re.compile(r'https?://(www\\.)?\\w+.+')\n",
    "        for inlink in soups:\n",
    "            inner_links=inlink.find_all('a',{'href':pat})\n",
    "           # store.append(inner_links)\n",
    "        #store[i]\n",
    "        for inlinks in inner_links:\n",
    "            all_inner_links.append(inlinks['href'])\n",
    "    return all_inner_links\n",
    "        \n",
    "            \n",
    "        "
   ]
  },
  {
   "cell_type": "code",
   "execution_count": 4,
   "id": "7700aa9d",
   "metadata": {},
   "outputs": [],
   "source": [
    "def traverseDfs_rec(page_url,base_url,depth,visited=list()):\n",
    "    visited.append(base_url)\n",
    "    inter_=get_internal_links(page_url,base_url)\n",
    "    for linked  in extract_links(inter_):\n",
    "        if not linked in visited:\n",
    "            traverseDfs(page_url,linked,depth+1,visited)\n",
    "    return visited"
   ]
  },
  {
   "cell_type": "code",
   "execution_count": 5,
   "id": "8b650408",
   "metadata": {},
   "outputs": [],
   "source": [
    "def traverseDfs_Iter(page_url,base_url):\n",
    "    #pick any color randomly from the given data sets\n",
    "    #\n",
    "    visited=[]\n",
    "    visited.append(base_url)\n",
    "   \n",
    "    inter_=get_internal_links(page_url,base_url)\n",
    "    inner_=extract_links(inter_)\n",
    "    \n",
    "    for all_inside_links in inner_:\n",
    "        if not all_inside_links in visited:\n",
    "            visited.append(all_inside_links)\n",
    "    return visited            \n",
    "            "
   ]
  },
  {
   "cell_type": "code",
   "execution_count": 9,
   "id": "00f41135",
   "metadata": {},
   "outputs": [
    {
     "name": "stdout",
     "output_type": "stream",
     "text": [
      "https://www.uopeople.edu/\n"
     ]
    }
   ],
   "source": [
    "if __name__=='__main__':\n",
    "    base_url='https://www.uopeople.edu/'\n",
    "    page_url='https://www.uopeople.edu/'\n",
    "    #inter_=get_internal_links(page_url,base_url)\n",
    "    #inner_=extract_links(inter_)\n",
    "    seenLinks=traverseDfs_Iter(page_url,base_url)\n",
    "    for mylinks in seenLinks:\n",
    "        print(mylinks)"
   ]
  },
  {
   "cell_type": "code",
   "execution_count": null,
   "id": "cda204db",
   "metadata": {},
   "outputs": [],
   "source": []
  },
  {
   "cell_type": "code",
   "execution_count": null,
   "id": "5d07ac66",
   "metadata": {},
   "outputs": [],
   "source": []
  }
 ],
 "metadata": {
  "kernelspec": {
   "display_name": "Python 3 (ipykernel)",
   "language": "python",
   "name": "python3"
  },
  "language_info": {
   "codemirror_mode": {
    "name": "ipython",
    "version": 3
   },
   "file_extension": ".py",
   "mimetype": "text/x-python",
   "name": "python",
   "nbconvert_exporter": "python",
   "pygments_lexer": "ipython3",
   "version": "3.9.13"
  }
 },
 "nbformat": 4,
 "nbformat_minor": 5
}
